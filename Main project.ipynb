{
 "cells": [
  {
   "cell_type": "code",
   "execution_count": 2,
   "id": "dc977847-eab3-4d28-958a-f0637d50cc25",
   "metadata": {},
   "outputs": [
    {
     "name": "stdout",
     "output_type": "stream",
     "text": [
      "Total voters strength: 15\n"
     ]
    },
    {
     "name": "stdin",
     "output_type": "stream",
     "text": [
      "\n",
      "enter your voter id: 10\n"
     ]
    },
    {
     "name": "stdout",
     "output_type": "stream",
     "text": [
      "Select Your Candidate:1.Candidate_1,2.Candidate_2\n"
     ]
    },
    {
     "name": "stdin",
     "output_type": "stream",
     "text": [
      "enter your choice 2\n",
      "\n",
      "enter your voter id: 11\n"
     ]
    },
    {
     "name": "stdout",
     "output_type": "stream",
     "text": [
      "Select Your Candidate:1.Candidate_1,2.Candidate_2\n"
     ]
    },
    {
     "name": "stdin",
     "output_type": "stream",
     "text": [
      "enter your choice 3\n"
     ]
    },
    {
     "name": "stdout",
     "output_type": "stream",
     "text": [
      "invalid voter choice\n"
     ]
    },
    {
     "name": "stdin",
     "output_type": "stream",
     "text": [
      "\n",
      "enter your voter id: 12\n"
     ]
    },
    {
     "name": "stdout",
     "output_type": "stream",
     "text": [
      "Select Your Candidate:1.Candidate_1,2.Candidate_2\n"
     ]
    },
    {
     "name": "stdin",
     "output_type": "stream",
     "text": [
      "enter your choice 2\n",
      "\n",
      "enter your voter id: 13\n"
     ]
    },
    {
     "name": "stdout",
     "output_type": "stream",
     "text": [
      "Select Your Candidate:1.Candidate_1,2.Candidate_2\n"
     ]
    },
    {
     "name": "stdin",
     "output_type": "stream",
     "text": [
      "enter your choice 1\n",
      "\n",
      "enter your voter id: 14\n"
     ]
    },
    {
     "name": "stdout",
     "output_type": "stream",
     "text": [
      "Select Your Candidate:1.Candidate_1,2.Candidate_2\n"
     ]
    },
    {
     "name": "stdin",
     "output_type": "stream",
     "text": [
      "enter your choice 2\n",
      "\n",
      "enter your voter id: 15\n"
     ]
    },
    {
     "name": "stdout",
     "output_type": "stream",
     "text": [
      "Select Your Candidate:1.Candidate_1,2.Candidate_2\n"
     ]
    },
    {
     "name": "stdin",
     "output_type": "stream",
     "text": [
      "enter your choice 2\n",
      "\n",
      "enter your voter id: 16\n"
     ]
    },
    {
     "name": "stdout",
     "output_type": "stream",
     "text": [
      "Select Your Candidate:1.Candidate_1,2.Candidate_2\n"
     ]
    },
    {
     "name": "stdin",
     "output_type": "stream",
     "text": [
      "enter your choice 1\n",
      "\n",
      "enter your voter id: 17\n"
     ]
    },
    {
     "name": "stdout",
     "output_type": "stream",
     "text": [
      "Select Your Candidate:1.Candidate_1,2.Candidate_2\n"
     ]
    },
    {
     "name": "stdin",
     "output_type": "stream",
     "text": [
      "enter your choice 2\n",
      "\n",
      "enter your voter id: 18\n"
     ]
    },
    {
     "name": "stdout",
     "output_type": "stream",
     "text": [
      "Select Your Candidate:1.Candidate_1,2.Candidate_2\n"
     ]
    },
    {
     "name": "stdin",
     "output_type": "stream",
     "text": [
      "enter your choice 2\n",
      "\n",
      "enter your voter id: 19\n"
     ]
    },
    {
     "name": "stdout",
     "output_type": "stream",
     "text": [
      "Select Your Candidate:1.Candidate_1,2.Candidate_2\n"
     ]
    },
    {
     "name": "stdin",
     "output_type": "stream",
     "text": [
      "enter your choice 2\n",
      "\n",
      "enter your voter id: 20\n"
     ]
    },
    {
     "name": "stdout",
     "output_type": "stream",
     "text": [
      "Select Your Candidate:1.Candidate_1,2.Candidate_2\n"
     ]
    },
    {
     "name": "stdin",
     "output_type": "stream",
     "text": [
      "enter your choice 1\n",
      "\n",
      "enter your voter id: 20\n"
     ]
    },
    {
     "name": "stdout",
     "output_type": "stream",
     "text": [
      "already voted or invalid id\n"
     ]
    },
    {
     "name": "stdin",
     "output_type": "stream",
     "text": [
      "\n",
      "enter your voter id: 21\n"
     ]
    },
    {
     "name": "stdout",
     "output_type": "stream",
     "text": [
      "Select Your Candidate:1.Candidate_1,2.Candidate_2\n"
     ]
    },
    {
     "name": "stdin",
     "output_type": "stream",
     "text": [
      "enter your choice 2\n",
      "\n",
      "enter your voter id: 22\n"
     ]
    },
    {
     "name": "stdout",
     "output_type": "stream",
     "text": [
      "Select Your Candidate:1.Candidate_1,2.Candidate_2\n"
     ]
    },
    {
     "name": "stdin",
     "output_type": "stream",
     "text": [
      "enter your choice 1\n",
      "\n",
      "enter your voter id: 23\n"
     ]
    },
    {
     "name": "stdout",
     "output_type": "stream",
     "text": [
      "Select Your Candidate:1.Candidate_1,2.Candidate_2\n"
     ]
    },
    {
     "name": "stdin",
     "output_type": "stream",
     "text": [
      "enter your choice 2\n",
      "\n",
      "enter your voter id: 24\n"
     ]
    },
    {
     "name": "stdout",
     "output_type": "stream",
     "text": [
      "Select Your Candidate:1.Candidate_1,2.Candidate_2\n"
     ]
    },
    {
     "name": "stdin",
     "output_type": "stream",
     "text": [
      "enter your choice 1\n"
     ]
    },
    {
     "name": "stdout",
     "output_type": "stream",
     "text": [
      "\n",
      "voting process is over\n",
      "\n",
      "ADMK won the election\n"
     ]
    }
   ],
   "source": [
    "Candidate_1 =\"DMK\"\n",
    "Candidate_2 = \"ADMK\"\n",
    "\n",
    "voters_id = [10,11,12,13,14,15,16,17,18,19,20,21,22,23,24]\n",
    "print(\"Total voters strength:\",len(voters_id))\n",
    "\n",
    "voted = []\n",
    "Candidate_1_votes = 0\n",
    "Candidate_2_votes = 0\n",
    "while True:\n",
    "    if voters_id ==[]:\n",
    "        print(\"\\nvoting process is over\")\n",
    "        if Candidate_1_votes>Candidate_2_votes:\n",
    "           print(\"\\nDMK won the election:\")\n",
    "           break\n",
    "        elif Candidate_2_votes>Candidate_1_votes:\n",
    "            print(\"\\nADMK won the election\")\n",
    "            break\n",
    "        elif Candidate_1_votes==Candidate_2_votes:\n",
    "           print(\"\\nelection result is tied\")\n",
    "           break\n",
    "        \n",
    "         \n",
    "    else:\n",
    "        voter = int(input(\"\\nenter your voter id:\"))\n",
    "        if voter in voted:\n",
    "            print(\"already voted or invalid id\")\n",
    "        else:\n",
    "            print(\"Select Your Candidate:1.Candidate_1,2.Candidate_2\")\n",
    "            choice = int(input(\"enter your choice\"))\n",
    "            if choice == 1:\n",
    "                Candidate_1_votes = Candidate_1_votes+1\n",
    "            elif choice ==2:\n",
    "                Candidate_2_votes= Candidate_2_votes+1\n",
    "            else:\n",
    "                 print(\"invalid voter choice\")\n",
    "         \n",
    "            voters_id.remove(voter)\n",
    "            voted.append(voter)"
   ]
  },
  {
   "cell_type": "code",
   "execution_count": null,
   "id": "f84bc703-1e47-4915-a299-de0308acaebb",
   "metadata": {},
   "outputs": [],
   "source": []
  }
 ],
 "metadata": {
  "kernelspec": {
   "display_name": "Python 3 (ipykernel)",
   "language": "python",
   "name": "python3"
  },
  "language_info": {
   "codemirror_mode": {
    "name": "ipython",
    "version": 3
   },
   "file_extension": ".py",
   "mimetype": "text/x-python",
   "name": "python",
   "nbconvert_exporter": "python",
   "pygments_lexer": "ipython3",
   "version": "3.11.4"
  }
 },
 "nbformat": 4,
 "nbformat_minor": 5
}
